{
 "cells": [
  {
   "cell_type": "code",
   "execution_count": null,
   "metadata": {},
   "outputs": [],
   "source": [
    "#Create a directory \n",
    "import os\n",
    "path = os.path.join(parent_dir, directory)\n",
    "try:\n",
    "    os.mkdir(h_path)\n",
    "except OSError as error:\n",
    "    print(error)\n"
   ]
  },
  {
   "cell_type": "code",
   "execution_count": null,
   "metadata": {},
   "outputs": [],
   "source": [
    "#Copy a file from src to dst\n",
    "from shutil import copyfile\n",
    "copyfile(absolute_path_of_file, dst_path/filename)\n"
   ]
  },
  {
   "cell_type": "code",
   "execution_count": 5,
   "metadata": {},
   "outputs": [],
   "source": [
    "#Sentence Tokenization for english\n",
    "import nltk\n",
    "content = open('/home/kishori/ILP_isha/codes/align_doc/Why_Was_Krishna_Such_a_Mischievous_Child.txt/Why_Was_Krishna_Such_a_Mischievous_Child.txt','r').read()\n",
    "tokenizer = nltk.data.load('tokenizers/punkt/english.pickle')\n",
    "print ('\\n'.join(tokenizer.tokenize(content)),file=open('outfile' , 'w'))\n"
   ]
  },
  {
   "cell_type": "code",
   "execution_count": 1,
   "metadata": {},
   "outputs": [],
   "source": [
    "#Sentence Tokenization for hindi\n",
    "import nltk\n",
    "def eng_sent_tokenize(inputfile, outputfile):\n",
    "    content = open(inputfile,'r').read()\n",
    "    tokenizer = nltk.data.load('tokenizers/punkt/english.pickle')\n",
    "    print ('\\n'.join(tokenizer.tokenize(content)),file=open( outputfile, 'w'))\n",
    "\n",
    "    \n",
    "#Hindi Tokenization: cases not handled: ।\",।'\n",
    "def hin_sent_tokenize(hinputfile, houtputfile):\n",
    "    eng_sent_tokenize(hinputfile, 'demo')\n",
    "    content = open('demo','r').read()\n",
    "#     content1 = content.replace('।\"','।\"\\n')\n",
    "#     content2 = content1.replace(\"।'\",\"।'\\n\")    \n",
    "    content = content.replace(\"।\",\"।\\n\")\n",
    "    with open(houtputfile,'w') as f:\n",
    "        f.write(content)"
   ]
  },
  {
   "cell_type": "code",
   "execution_count": 2,
   "metadata": {},
   "outputs": [],
   "source": [
    "inputfile = '/home/kishori/ILP_isha/codes/align_doc/Why_Was_Krishna_Such_a_Mischievous_Child.txt/H/Hindi_Dubbing_Script_-_Why_Was_Krishna_Such_a_Mischievous_Child.txt'\n",
    "outputfile = 'outfile'\n",
    "\n",
    "hin_sent_tokenize(inputfile,outputfile)"
   ]
  },
  {
   "cell_type": "code",
   "execution_count": null,
   "metadata": {},
   "outputs": [],
   "source": []
  }
 ],
 "metadata": {
  "kernelspec": {
   "display_name": "Python 3",
   "language": "python",
   "name": "python3"
  },
  "language_info": {
   "codemirror_mode": {
    "name": "ipython",
    "version": 3
   },
   "file_extension": ".py",
   "mimetype": "text/x-python",
   "name": "python",
   "nbconvert_exporter": "python",
   "pygments_lexer": "ipython3",
   "version": "3.6.8"
  }
 },
 "nbformat": 4,
 "nbformat_minor": 2
}
